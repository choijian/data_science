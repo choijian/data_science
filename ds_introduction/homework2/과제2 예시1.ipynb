{
 "cells": [
  {
   "cell_type": "markdown",
   "id": "44547244",
   "metadata": {},
   "source": [
    "# 주제 : 선형 회귀분석을 이용하여 다이아몬드 가격 예측"
   ]
  },
  {
   "cell_type": "markdown",
   "id": "7e4060d5",
   "metadata": {},
   "source": [
    "## Feature 설명   \n",
    "price : price in US dollars (\\$326--\\$18,823)    \n",
    "carat : weight of the diamond (0.2--5.01)   \n",
    "cut : quality of the cut (Fair, Good, Very Good, Premium, Ideal)    \n",
    "color : diamond colour\n",
    "clarity : a measurement of how clear the diamond is (I1 (worst), SI2, SI1, VS2, VS1, VVS2, VVS1, IF (best))  \n",
    "length : length in mm (0--10.74)   \n",
    "width : width in mm (0--58.9)  \n",
    "depth : depth in mm (0--31.8)  \n",
    "depth_per : total depth percentage = z / mean(x, y) = 2 * z / (x + y) (43--79)   \n",
    "table : width of top of diamond relative to widest point (43--95)   \n",
    "\n",
    "**target => price**"
   ]
  },
  {
   "cell_type": "code",
   "execution_count": 1,
   "id": "4217dfe8",
   "metadata": {},
   "outputs": [
    {
     "data": {
      "text/html": [
       "<div>\n",
       "<style scoped>\n",
       "    .dataframe tbody tr th:only-of-type {\n",
       "        vertical-align: middle;\n",
       "    }\n",
       "\n",
       "    .dataframe tbody tr th {\n",
       "        vertical-align: top;\n",
       "    }\n",
       "\n",
       "    .dataframe thead th {\n",
       "        text-align: right;\n",
       "    }\n",
       "</style>\n",
       "<table border=\"1\" class=\"dataframe\">\n",
       "  <thead>\n",
       "    <tr style=\"text-align: right;\">\n",
       "      <th></th>\n",
       "      <th>carat</th>\n",
       "      <th>cut</th>\n",
       "      <th>color</th>\n",
       "      <th>clarity</th>\n",
       "      <th>depth_per</th>\n",
       "      <th>table</th>\n",
       "      <th>length</th>\n",
       "      <th>width</th>\n",
       "      <th>depth</th>\n",
       "      <th>price</th>\n",
       "    </tr>\n",
       "  </thead>\n",
       "  <tbody>\n",
       "    <tr>\n",
       "      <th>0</th>\n",
       "      <td>0.23</td>\n",
       "      <td>Ideal</td>\n",
       "      <td>E</td>\n",
       "      <td>SI2</td>\n",
       "      <td>61.5</td>\n",
       "      <td>55.0</td>\n",
       "      <td>3.95</td>\n",
       "      <td>3.98</td>\n",
       "      <td>2.43</td>\n",
       "      <td>326</td>\n",
       "    </tr>\n",
       "    <tr>\n",
       "      <th>1</th>\n",
       "      <td>0.21</td>\n",
       "      <td>Premium</td>\n",
       "      <td>E</td>\n",
       "      <td>SI1</td>\n",
       "      <td>59.8</td>\n",
       "      <td>61.0</td>\n",
       "      <td>3.89</td>\n",
       "      <td>3.84</td>\n",
       "      <td>2.31</td>\n",
       "      <td>326</td>\n",
       "    </tr>\n",
       "    <tr>\n",
       "      <th>2</th>\n",
       "      <td>0.23</td>\n",
       "      <td>Good</td>\n",
       "      <td>E</td>\n",
       "      <td>VS1</td>\n",
       "      <td>56.9</td>\n",
       "      <td>65.0</td>\n",
       "      <td>4.05</td>\n",
       "      <td>4.07</td>\n",
       "      <td>2.31</td>\n",
       "      <td>327</td>\n",
       "    </tr>\n",
       "    <tr>\n",
       "      <th>3</th>\n",
       "      <td>0.29</td>\n",
       "      <td>Premium</td>\n",
       "      <td>I</td>\n",
       "      <td>VS2</td>\n",
       "      <td>62.4</td>\n",
       "      <td>58.0</td>\n",
       "      <td>4.20</td>\n",
       "      <td>4.23</td>\n",
       "      <td>2.63</td>\n",
       "      <td>334</td>\n",
       "    </tr>\n",
       "    <tr>\n",
       "      <th>4</th>\n",
       "      <td>0.31</td>\n",
       "      <td>Good</td>\n",
       "      <td>J</td>\n",
       "      <td>SI2</td>\n",
       "      <td>63.3</td>\n",
       "      <td>58.0</td>\n",
       "      <td>4.34</td>\n",
       "      <td>4.35</td>\n",
       "      <td>2.75</td>\n",
       "      <td>335</td>\n",
       "    </tr>\n",
       "    <tr>\n",
       "      <th>...</th>\n",
       "      <td>...</td>\n",
       "      <td>...</td>\n",
       "      <td>...</td>\n",
       "      <td>...</td>\n",
       "      <td>...</td>\n",
       "      <td>...</td>\n",
       "      <td>...</td>\n",
       "      <td>...</td>\n",
       "      <td>...</td>\n",
       "      <td>...</td>\n",
       "    </tr>\n",
       "    <tr>\n",
       "      <th>53935</th>\n",
       "      <td>0.72</td>\n",
       "      <td>Ideal</td>\n",
       "      <td>D</td>\n",
       "      <td>SI1</td>\n",
       "      <td>60.8</td>\n",
       "      <td>57.0</td>\n",
       "      <td>5.75</td>\n",
       "      <td>5.76</td>\n",
       "      <td>3.50</td>\n",
       "      <td>2757</td>\n",
       "    </tr>\n",
       "    <tr>\n",
       "      <th>53936</th>\n",
       "      <td>0.72</td>\n",
       "      <td>Good</td>\n",
       "      <td>D</td>\n",
       "      <td>SI1</td>\n",
       "      <td>63.1</td>\n",
       "      <td>55.0</td>\n",
       "      <td>5.69</td>\n",
       "      <td>5.75</td>\n",
       "      <td>3.61</td>\n",
       "      <td>2757</td>\n",
       "    </tr>\n",
       "    <tr>\n",
       "      <th>53937</th>\n",
       "      <td>0.70</td>\n",
       "      <td>Very Good</td>\n",
       "      <td>D</td>\n",
       "      <td>SI1</td>\n",
       "      <td>62.8</td>\n",
       "      <td>60.0</td>\n",
       "      <td>5.66</td>\n",
       "      <td>5.68</td>\n",
       "      <td>3.56</td>\n",
       "      <td>2757</td>\n",
       "    </tr>\n",
       "    <tr>\n",
       "      <th>53938</th>\n",
       "      <td>0.86</td>\n",
       "      <td>Premium</td>\n",
       "      <td>H</td>\n",
       "      <td>SI2</td>\n",
       "      <td>61.0</td>\n",
       "      <td>58.0</td>\n",
       "      <td>6.15</td>\n",
       "      <td>6.12</td>\n",
       "      <td>3.74</td>\n",
       "      <td>2757</td>\n",
       "    </tr>\n",
       "    <tr>\n",
       "      <th>53939</th>\n",
       "      <td>0.75</td>\n",
       "      <td>Ideal</td>\n",
       "      <td>D</td>\n",
       "      <td>SI2</td>\n",
       "      <td>62.2</td>\n",
       "      <td>55.0</td>\n",
       "      <td>5.83</td>\n",
       "      <td>5.87</td>\n",
       "      <td>3.64</td>\n",
       "      <td>2757</td>\n",
       "    </tr>\n",
       "  </tbody>\n",
       "</table>\n",
       "<p>53940 rows × 10 columns</p>\n",
       "</div>"
      ],
      "text/plain": [
       "       carat        cut color clarity  depth_per  table  length  width  depth  \\\n",
       "0       0.23      Ideal     E     SI2       61.5   55.0    3.95   3.98   2.43   \n",
       "1       0.21    Premium     E     SI1       59.8   61.0    3.89   3.84   2.31   \n",
       "2       0.23       Good     E     VS1       56.9   65.0    4.05   4.07   2.31   \n",
       "3       0.29    Premium     I     VS2       62.4   58.0    4.20   4.23   2.63   \n",
       "4       0.31       Good     J     SI2       63.3   58.0    4.34   4.35   2.75   \n",
       "...      ...        ...   ...     ...        ...    ...     ...    ...    ...   \n",
       "53935   0.72      Ideal     D     SI1       60.8   57.0    5.75   5.76   3.50   \n",
       "53936   0.72       Good     D     SI1       63.1   55.0    5.69   5.75   3.61   \n",
       "53937   0.70  Very Good     D     SI1       62.8   60.0    5.66   5.68   3.56   \n",
       "53938   0.86    Premium     H     SI2       61.0   58.0    6.15   6.12   3.74   \n",
       "53939   0.75      Ideal     D     SI2       62.2   55.0    5.83   5.87   3.64   \n",
       "\n",
       "       price  \n",
       "0        326  \n",
       "1        326  \n",
       "2        327  \n",
       "3        334  \n",
       "4        335  \n",
       "...      ...  \n",
       "53935   2757  \n",
       "53936   2757  \n",
       "53937   2757  \n",
       "53938   2757  \n",
       "53939   2757  \n",
       "\n",
       "[53940 rows x 10 columns]"
      ]
     },
     "execution_count": 1,
     "metadata": {},
     "output_type": "execute_result"
    }
   ],
   "source": [
    "import pandas as pd\n",
    "df = pd.read_csv(\"diamonds.csv\")\n",
    "df"
   ]
  },
  {
   "cell_type": "code",
   "execution_count": 2,
   "id": "240a1ba3",
   "metadata": {},
   "outputs": [
    {
     "name": "stdout",
     "output_type": "stream",
     "text": [
      "<class 'pandas.core.frame.DataFrame'>\n",
      "RangeIndex: 53940 entries, 0 to 53939\n",
      "Data columns (total 10 columns):\n",
      " #   Column     Non-Null Count  Dtype  \n",
      "---  ------     --------------  -----  \n",
      " 0   carat      53940 non-null  float64\n",
      " 1   cut        53940 non-null  object \n",
      " 2   color      53940 non-null  object \n",
      " 3   clarity    53940 non-null  object \n",
      " 4   depth_per  53940 non-null  float64\n",
      " 5   table      53940 non-null  float64\n",
      " 6   length     53940 non-null  float64\n",
      " 7   width      53940 non-null  float64\n",
      " 8   depth      53940 non-null  float64\n",
      " 9   price      53940 non-null  int64  \n",
      "dtypes: float64(6), int64(1), object(3)\n",
      "memory usage: 4.1+ MB\n"
     ]
    }
   ],
   "source": [
    "df.info()"
   ]
  },
  {
   "cell_type": "markdown",
   "id": "c2f5574d",
   "metadata": {},
   "source": [
    "**결측치 확인) 전체 53940개의 데이터 중 모든 열에 대하여 non-null 값이 53940개 이므로   \n",
    "=>누락데이터가 없음이 확인 가능하다.**"
   ]
  },
  {
   "cell_type": "code",
   "execution_count": 3,
   "id": "d69a8bda",
   "metadata": {},
   "outputs": [
    {
     "data": {
      "text/html": [
       "<div>\n",
       "<style scoped>\n",
       "    .dataframe tbody tr th:only-of-type {\n",
       "        vertical-align: middle;\n",
       "    }\n",
       "\n",
       "    .dataframe tbody tr th {\n",
       "        vertical-align: top;\n",
       "    }\n",
       "\n",
       "    .dataframe thead th {\n",
       "        text-align: right;\n",
       "    }\n",
       "</style>\n",
       "<table border=\"1\" class=\"dataframe\">\n",
       "  <thead>\n",
       "    <tr style=\"text-align: right;\">\n",
       "      <th></th>\n",
       "      <th>carat</th>\n",
       "      <th>cut</th>\n",
       "      <th>color</th>\n",
       "      <th>clarity</th>\n",
       "      <th>depth_per</th>\n",
       "      <th>table</th>\n",
       "      <th>length</th>\n",
       "      <th>width</th>\n",
       "      <th>depth</th>\n",
       "      <th>price</th>\n",
       "    </tr>\n",
       "  </thead>\n",
       "  <tbody>\n",
       "    <tr>\n",
       "      <th>0</th>\n",
       "      <td>0.23</td>\n",
       "      <td>Ideal</td>\n",
       "      <td>E</td>\n",
       "      <td>SI2</td>\n",
       "      <td>61.5</td>\n",
       "      <td>55.0</td>\n",
       "      <td>3.95</td>\n",
       "      <td>3.98</td>\n",
       "      <td>2.43</td>\n",
       "      <td>326</td>\n",
       "    </tr>\n",
       "    <tr>\n",
       "      <th>1</th>\n",
       "      <td>0.21</td>\n",
       "      <td>Premium</td>\n",
       "      <td>E</td>\n",
       "      <td>SI1</td>\n",
       "      <td>59.8</td>\n",
       "      <td>61.0</td>\n",
       "      <td>3.89</td>\n",
       "      <td>3.84</td>\n",
       "      <td>2.31</td>\n",
       "      <td>326</td>\n",
       "    </tr>\n",
       "    <tr>\n",
       "      <th>2</th>\n",
       "      <td>0.23</td>\n",
       "      <td>Good</td>\n",
       "      <td>E</td>\n",
       "      <td>VS1</td>\n",
       "      <td>56.9</td>\n",
       "      <td>65.0</td>\n",
       "      <td>4.05</td>\n",
       "      <td>4.07</td>\n",
       "      <td>2.31</td>\n",
       "      <td>327</td>\n",
       "    </tr>\n",
       "    <tr>\n",
       "      <th>3</th>\n",
       "      <td>0.29</td>\n",
       "      <td>Premium</td>\n",
       "      <td>I</td>\n",
       "      <td>VS2</td>\n",
       "      <td>62.4</td>\n",
       "      <td>58.0</td>\n",
       "      <td>4.20</td>\n",
       "      <td>4.23</td>\n",
       "      <td>2.63</td>\n",
       "      <td>334</td>\n",
       "    </tr>\n",
       "    <tr>\n",
       "      <th>4</th>\n",
       "      <td>0.31</td>\n",
       "      <td>Good</td>\n",
       "      <td>J</td>\n",
       "      <td>SI2</td>\n",
       "      <td>63.3</td>\n",
       "      <td>58.0</td>\n",
       "      <td>4.34</td>\n",
       "      <td>4.35</td>\n",
       "      <td>2.75</td>\n",
       "      <td>335</td>\n",
       "    </tr>\n",
       "    <tr>\n",
       "      <th>...</th>\n",
       "      <td>...</td>\n",
       "      <td>...</td>\n",
       "      <td>...</td>\n",
       "      <td>...</td>\n",
       "      <td>...</td>\n",
       "      <td>...</td>\n",
       "      <td>...</td>\n",
       "      <td>...</td>\n",
       "      <td>...</td>\n",
       "      <td>...</td>\n",
       "    </tr>\n",
       "    <tr>\n",
       "      <th>53935</th>\n",
       "      <td>0.72</td>\n",
       "      <td>Ideal</td>\n",
       "      <td>D</td>\n",
       "      <td>SI1</td>\n",
       "      <td>60.8</td>\n",
       "      <td>57.0</td>\n",
       "      <td>5.75</td>\n",
       "      <td>5.76</td>\n",
       "      <td>3.50</td>\n",
       "      <td>2757</td>\n",
       "    </tr>\n",
       "    <tr>\n",
       "      <th>53936</th>\n",
       "      <td>0.72</td>\n",
       "      <td>Good</td>\n",
       "      <td>D</td>\n",
       "      <td>SI1</td>\n",
       "      <td>63.1</td>\n",
       "      <td>55.0</td>\n",
       "      <td>5.69</td>\n",
       "      <td>5.75</td>\n",
       "      <td>3.61</td>\n",
       "      <td>2757</td>\n",
       "    </tr>\n",
       "    <tr>\n",
       "      <th>53937</th>\n",
       "      <td>0.70</td>\n",
       "      <td>Very Good</td>\n",
       "      <td>D</td>\n",
       "      <td>SI1</td>\n",
       "      <td>62.8</td>\n",
       "      <td>60.0</td>\n",
       "      <td>5.66</td>\n",
       "      <td>5.68</td>\n",
       "      <td>3.56</td>\n",
       "      <td>2757</td>\n",
       "    </tr>\n",
       "    <tr>\n",
       "      <th>53938</th>\n",
       "      <td>0.86</td>\n",
       "      <td>Premium</td>\n",
       "      <td>H</td>\n",
       "      <td>SI2</td>\n",
       "      <td>61.0</td>\n",
       "      <td>58.0</td>\n",
       "      <td>6.15</td>\n",
       "      <td>6.12</td>\n",
       "      <td>3.74</td>\n",
       "      <td>2757</td>\n",
       "    </tr>\n",
       "    <tr>\n",
       "      <th>53939</th>\n",
       "      <td>0.75</td>\n",
       "      <td>Ideal</td>\n",
       "      <td>D</td>\n",
       "      <td>SI2</td>\n",
       "      <td>62.2</td>\n",
       "      <td>55.0</td>\n",
       "      <td>5.83</td>\n",
       "      <td>5.87</td>\n",
       "      <td>3.64</td>\n",
       "      <td>2757</td>\n",
       "    </tr>\n",
       "  </tbody>\n",
       "</table>\n",
       "<p>53920 rows × 10 columns</p>\n",
       "</div>"
      ],
      "text/plain": [
       "       carat        cut color clarity  depth_per  table  length  width  depth  \\\n",
       "0       0.23      Ideal     E     SI2       61.5   55.0    3.95   3.98   2.43   \n",
       "1       0.21    Premium     E     SI1       59.8   61.0    3.89   3.84   2.31   \n",
       "2       0.23       Good     E     VS1       56.9   65.0    4.05   4.07   2.31   \n",
       "3       0.29    Premium     I     VS2       62.4   58.0    4.20   4.23   2.63   \n",
       "4       0.31       Good     J     SI2       63.3   58.0    4.34   4.35   2.75   \n",
       "...      ...        ...   ...     ...        ...    ...     ...    ...    ...   \n",
       "53935   0.72      Ideal     D     SI1       60.8   57.0    5.75   5.76   3.50   \n",
       "53936   0.72       Good     D     SI1       63.1   55.0    5.69   5.75   3.61   \n",
       "53937   0.70  Very Good     D     SI1       62.8   60.0    5.66   5.68   3.56   \n",
       "53938   0.86    Premium     H     SI2       61.0   58.0    6.15   6.12   3.74   \n",
       "53939   0.75      Ideal     D     SI2       62.2   55.0    5.83   5.87   3.64   \n",
       "\n",
       "       price  \n",
       "0        326  \n",
       "1        326  \n",
       "2        327  \n",
       "3        334  \n",
       "4        335  \n",
       "...      ...  \n",
       "53935   2757  \n",
       "53936   2757  \n",
       "53937   2757  \n",
       "53938   2757  \n",
       "53939   2757  \n",
       "\n",
       "[53920 rows x 10 columns]"
      ]
     },
     "execution_count": 3,
     "metadata": {},
     "output_type": "execute_result"
    }
   ],
   "source": [
    "df = df[(df[['length', 'width', 'depth']] != 0).all(axis=1)]\n",
    "df"
   ]
  },
  {
   "cell_type": "markdown",
   "id": "597b4c14",
   "metadata": {},
   "source": [
    "**이상치 확인) length, width, depth 중 0 값이 있으면 무차원 또는 2차원 다이아몬드가 있다는 것을 의미   \n",
    "=> 이상치 값이므로 제거 (20개 제거)**\n"
   ]
  },
  {
   "cell_type": "code",
   "execution_count": 4,
   "id": "7807583c",
   "metadata": {},
   "outputs": [
    {
     "data": {
      "image/png": "[encoded data removed]",
      "text/plain": [
       "<Figure size 432x288 with 1 Axes>"
      ]
     },
     "metadata": {
      "needs_background": "light"
     },
     "output_type": "display_data"
    }
   ],
   "source": [
    "#price 값 히스토그램으로 분포 확인\n",
    "import matplotlib.pyplot as plt\n",
    "plt.hist(df['price'])\n",
    "plt.show()"
   ]
  },
  {
   "cell_type": "markdown",
   "id": "3e7df089",
   "metadata": {},
   "source": [
    "## categorical한 변수들  numerical한 변수로 변환하기 \n",
    "### 1) 'cut', 'clarity' 는 순서형 변수 이므로 ->  Label Encoding"
   ]
  },
  {
   "cell_type": "code",
   "execution_count": 5,
   "id": "0cfe9e79",
   "metadata": {},
   "outputs": [
    {
     "name": "stderr",
     "output_type": "stream",
     "text": [
      "C:\\Users\\JooYeSeo\\anaconda3\\lib\\site-packages\\pandas\\core\\series.py:4509: SettingWithCopyWarning: \n",
      "A value is trying to be set on a copy of a slice from a DataFrame\n",
      "\n",
      "See the caveats in the documentation: https://pandas.pydata.org/pandas-docs/stable/user_guide/indexing.html#returning-a-view-versus-a-copy\n",
      "  return super().replace(\n"
     ]
    }
   ],
   "source": [
    "df['cut'].replace(['Ideal','Fair','Good','Very Good','Premium'],[0,1,2,3,4], inplace=True)"
   ]
  },
  {
   "cell_type": "code",
   "execution_count": 6,
   "id": "12d71342",
   "metadata": {},
   "outputs": [],
   "source": [
    "df['clarity'].replace(['SI1','SI2','I1','IF','VS1','VS2','VVS1','VVS2'],[0,1,2,3,4,5,6,7], inplace=True)"
   ]
  },
  {
   "cell_type": "markdown",
   "id": "dd26cc04",
   "metadata": {},
   "source": [
    "### 2) 'color' 는 명목형 변수이므로 -> One-Hot Encoding"
   ]
  },
  {
   "cell_type": "code",
   "execution_count": 7,
   "id": "34a35044",
   "metadata": {},
   "outputs": [
    {
     "data": {
      "text/plain": [
       "array(['E', 'I', 'J', 'H', 'F', 'G', 'D'], dtype=object)"
      ]
     },
     "execution_count": 7,
     "metadata": {},
     "output_type": "execute_result"
    }
   ],
   "source": [
    "df['color'].unique()"
   ]
  },
  {
   "cell_type": "markdown",
   "id": "8ffa8609",
   "metadata": {},
   "source": [
    "**'color' 의 unique한 변수가 총 7개로, one-hot encoding 시 독립변수가 너무 많아짐을 고려하여,   \n",
    "'color'열을 삭제하기로 하였다.**"
   ]
  },
  {
   "cell_type": "code",
   "execution_count": 8,
   "id": "866ee4d5",
   "metadata": {},
   "outputs": [
    {
     "data": {
      "text/html": [
       "<div>\n",
       "<style scoped>\n",
       "    .dataframe tbody tr th:only-of-type {\n",
       "        vertical-align: middle;\n",
       "    }\n",
       "\n",
       "    .dataframe tbody tr th {\n",
       "        vertical-align: top;\n",
       "    }\n",
       "\n",
       "    .dataframe thead th {\n",
       "        text-align: right;\n",
       "    }\n",
       "</style>\n",
       "<table border=\"1\" class=\"dataframe\">\n",
       "  <thead>\n",
       "    <tr style=\"text-align: right;\">\n",
       "      <th></th>\n",
       "      <th>carat</th>\n",
       "      <th>cut</th>\n",
       "      <th>clarity</th>\n",
       "      <th>depth_per</th>\n",
       "      <th>table</th>\n",
       "      <th>length</th>\n",
       "      <th>width</th>\n",
       "      <th>depth</th>\n",
       "      <th>price</th>\n",
       "    </tr>\n",
       "  </thead>\n",
       "  <tbody>\n",
       "    <tr>\n",
       "      <th>0</th>\n",
       "      <td>0.23</td>\n",
       "      <td>0</td>\n",
       "      <td>1</td>\n",
       "      <td>61.5</td>\n",
       "      <td>55.0</td>\n",
       "      <td>3.95</td>\n",
       "      <td>3.98</td>\n",
       "      <td>2.43</td>\n",
       "      <td>326</td>\n",
       "    </tr>\n",
       "    <tr>\n",
       "      <th>1</th>\n",
       "      <td>0.21</td>\n",
       "      <td>4</td>\n",
       "      <td>0</td>\n",
       "      <td>59.8</td>\n",
       "      <td>61.0</td>\n",
       "      <td>3.89</td>\n",
       "      <td>3.84</td>\n",
       "      <td>2.31</td>\n",
       "      <td>326</td>\n",
       "    </tr>\n",
       "    <tr>\n",
       "      <th>2</th>\n",
       "      <td>0.23</td>\n",
       "      <td>2</td>\n",
       "      <td>4</td>\n",
       "      <td>56.9</td>\n",
       "      <td>65.0</td>\n",
       "      <td>4.05</td>\n",
       "      <td>4.07</td>\n",
       "      <td>2.31</td>\n",
       "      <td>327</td>\n",
       "    </tr>\n",
       "    <tr>\n",
       "      <th>3</th>\n",
       "      <td>0.29</td>\n",
       "      <td>4</td>\n",
       "      <td>5</td>\n",
       "      <td>62.4</td>\n",
       "      <td>58.0</td>\n",
       "      <td>4.20</td>\n",
       "      <td>4.23</td>\n",
       "      <td>2.63</td>\n",
       "      <td>334</td>\n",
       "    </tr>\n",
       "    <tr>\n",
       "      <th>4</th>\n",
       "      <td>0.31</td>\n",
       "      <td>2</td>\n",
       "      <td>1</td>\n",
       "      <td>63.3</td>\n",
       "      <td>58.0</td>\n",
       "      <td>4.34</td>\n",
       "      <td>4.35</td>\n",
       "      <td>2.75</td>\n",
       "      <td>335</td>\n",
       "    </tr>\n",
       "    <tr>\n",
       "      <th>...</th>\n",
       "      <td>...</td>\n",
       "      <td>...</td>\n",
       "      <td>...</td>\n",
       "      <td>...</td>\n",
       "      <td>...</td>\n",
       "      <td>...</td>\n",
       "      <td>...</td>\n",
       "      <td>...</td>\n",
       "      <td>...</td>\n",
       "    </tr>\n",
       "    <tr>\n",
       "      <th>53935</th>\n",
       "      <td>0.72</td>\n",
       "      <td>0</td>\n",
       "      <td>0</td>\n",
       "      <td>60.8</td>\n",
       "      <td>57.0</td>\n",
       "      <td>5.75</td>\n",
       "      <td>5.76</td>\n",
       "      <td>3.50</td>\n",
       "      <td>2757</td>\n",
       "    </tr>\n",
       "    <tr>\n",
       "      <th>53936</th>\n",
       "      <td>0.72</td>\n",
       "      <td>2</td>\n",
       "      <td>0</td>\n",
       "      <td>63.1</td>\n",
       "      <td>55.0</td>\n",
       "      <td>5.69</td>\n",
       "      <td>5.75</td>\n",
       "      <td>3.61</td>\n",
       "      <td>2757</td>\n",
       "    </tr>\n",
       "    <tr>\n",
       "      <th>53937</th>\n",
       "      <td>0.70</td>\n",
       "      <td>3</td>\n",
       "      <td>0</td>\n",
       "      <td>62.8</td>\n",
       "      <td>60.0</td>\n",
       "      <td>5.66</td>\n",
       "      <td>5.68</td>\n",
       "      <td>3.56</td>\n",
       "      <td>2757</td>\n",
       "    </tr>\n",
       "    <tr>\n",
       "      <th>53938</th>\n",
       "      <td>0.86</td>\n",
       "      <td>4</td>\n",
       "      <td>1</td>\n",
       "      <td>61.0</td>\n",
       "      <td>58.0</td>\n",
       "      <td>6.15</td>\n",
       "      <td>6.12</td>\n",
       "      <td>3.74</td>\n",
       "      <td>2757</td>\n",
       "    </tr>\n",
       "    <tr>\n",
       "      <th>53939</th>\n",
       "      <td>0.75</td>\n",
       "      <td>0</td>\n",
       "      <td>1</td>\n",
       "      <td>62.2</td>\n",
       "      <td>55.0</td>\n",
       "      <td>5.83</td>\n",
       "      <td>5.87</td>\n",
       "      <td>3.64</td>\n",
       "      <td>2757</td>\n",
       "    </tr>\n",
       "  </tbody>\n",
       "</table>\n",
       "<p>53920 rows × 9 columns</p>\n",
       "</div>"
      ],
      "text/plain": [
       "       carat  cut  clarity  depth_per  table  length  width  depth  price\n",
       "0       0.23    0        1       61.5   55.0    3.95   3.98   2.43    326\n",
       "1       0.21    4        0       59.8   61.0    3.89   3.84   2.31    326\n",
       "2       0.23    2        4       56.9   65.0    4.05   4.07   2.31    327\n",
       "3       0.29    4        5       62.4   58.0    4.20   4.23   2.63    334\n",
       "4       0.31    2        1       63.3   58.0    4.34   4.35   2.75    335\n",
       "...      ...  ...      ...        ...    ...     ...    ...    ...    ...\n",
       "53935   0.72    0        0       60.8   57.0    5.75   5.76   3.50   2757\n",
       "53936   0.72    2        0       63.1   55.0    5.69   5.75   3.61   2757\n",
       "53937   0.70    3        0       62.8   60.0    5.66   5.68   3.56   2757\n",
       "53938   0.86    4        1       61.0   58.0    6.15   6.12   3.74   2757\n",
       "53939   0.75    0        1       62.2   55.0    5.83   5.87   3.64   2757\n",
       "\n",
       "[53920 rows x 9 columns]"
      ]
     },
     "execution_count": 8,
     "metadata": {},
     "output_type": "execute_result"
    }
   ],
   "source": [
    "df = df.drop(labels = 'color', axis=1)\n",
    "df"
   ]
  },
  {
   "cell_type": "markdown",
   "id": "463ae305",
   "metadata": {},
   "source": [
    "## #1. 종속변수와 상관관계가 높은 변수들의 outlier 제거"
   ]
  },
  {
   "cell_type": "code",
   "execution_count": 9,
   "id": "24971564",
   "metadata": {},
   "outputs": [
    {
     "data": {
      "text/plain": [
       "price        1.000000\n",
       "carat        0.921592\n",
       "length       0.887231\n",
       "depth        0.868206\n",
       "width        0.867864\n",
       "table        0.127245\n",
       "cut          0.105050\n",
       "depth_per   -0.010729\n",
       "clarity     -0.099860\n",
       "Name: price, dtype: float64"
      ]
     },
     "execution_count": 9,
     "metadata": {},
     "output_type": "execute_result"
    }
   ],
   "source": [
    "df_corr = df.corr()['price'].sort_values(ascending=False)\n",
    "df_corr"
   ]
  },
  {
   "cell_type": "code",
   "execution_count": 10,
   "id": "2f31afbb",
   "metadata": {},
   "outputs": [
    {
     "data": {
      "text/plain": [
       "Index(['carat', 'length', 'depth', 'width'], dtype='object')"
      ]
     },
     "execution_count": 10,
     "metadata": {},
     "output_type": "execute_result"
    }
   ],
   "source": [
    "df_corr_feats = df_corr.index[1:5]\n",
    "df_corr_feats"
   ]
  },
  {
   "cell_type": "code",
   "execution_count": 11,
   "id": "6cc2eb3b",
   "metadata": {},
   "outputs": [
    {
     "data": {
      "image/png": "[encoded data removed]",
      "text/plain": [
       "<Figure size 360x360 with 1 Axes>"
      ]
     },
     "metadata": {
      "needs_background": "light"
     },
     "output_type": "display_data"
    },
    {
     "data": {
      "image/png": "[encoded data removed]",
      "text/plain": [
       "<Figure size 360x360 with 1 Axes>"
      ]
     },
     "metadata": {
      "needs_background": "light"
     },
     "output_type": "display_data"
    },
    {
     "data": {
      "image/png": "[encoded data removed]",
      "text/plain": [
       "<Figure size 360x360 with 1 Axes>"
      ]
     },
     "metadata": {
      "needs_background": "light"
     },
     "output_type": "display_data"
    },
    {
     "data": {
      "image/png": "[encoded data removed]",
      "text/plain": [
       "<Figure size 360x360 with 1 Axes>"
      ]
     },
     "metadata": {
      "needs_background": "light"
     },
     "output_type": "display_data"
    }
   ],
   "source": [
    "import seaborn as sns\n",
    "for feat in df_corr_feats:\n",
    "    plt.figure(figsize=(5, 5))\n",
    "    sns.boxplot(x=feat, data=df)\n",
    "    plt.xlabel(feat)"
   ]
  },
  {
   "cell_type": "markdown",
   "id": "18c3657e",
   "metadata": {},
   "source": [
    "### => \"Price\"와 변수들간의 상관계수를 확인하고 그 값이 높은 변수들을 Boxplot 으로 확인"
   ]
  },
  {
   "cell_type": "code",
   "execution_count": 12,
   "id": "387c5b95",
   "metadata": {},
   "outputs": [
    {
     "data": {
      "text/html": [
       "<div>\n",
       "<style scoped>\n",
       "    .dataframe tbody tr th:only-of-type {\n",
       "        vertical-align: middle;\n",
       "    }\n",
       "\n",
       "    .dataframe tbody tr th {\n",
       "        vertical-align: top;\n",
       "    }\n",
       "\n",
       "    .dataframe thead th {\n",
       "        text-align: right;\n",
       "    }\n",
       "</style>\n",
       "<table border=\"1\" class=\"dataframe\">\n",
       "  <thead>\n",
       "    <tr style=\"text-align: right;\">\n",
       "      <th></th>\n",
       "      <th>carat</th>\n",
       "      <th>cut</th>\n",
       "      <th>clarity</th>\n",
       "      <th>depth_per</th>\n",
       "      <th>table</th>\n",
       "      <th>length</th>\n",
       "      <th>width</th>\n",
       "      <th>depth</th>\n",
       "      <th>price</th>\n",
       "    </tr>\n",
       "  </thead>\n",
       "  <tbody>\n",
       "    <tr>\n",
       "      <th>0</th>\n",
       "      <td>0.23</td>\n",
       "      <td>0</td>\n",
       "      <td>1</td>\n",
       "      <td>61.5</td>\n",
       "      <td>55.0</td>\n",
       "      <td>3.95</td>\n",
       "      <td>3.98</td>\n",
       "      <td>2.43</td>\n",
       "      <td>326</td>\n",
       "    </tr>\n",
       "    <tr>\n",
       "      <th>1</th>\n",
       "      <td>0.21</td>\n",
       "      <td>4</td>\n",
       "      <td>0</td>\n",
       "      <td>59.8</td>\n",
       "      <td>61.0</td>\n",
       "      <td>3.89</td>\n",
       "      <td>3.84</td>\n",
       "      <td>2.31</td>\n",
       "      <td>326</td>\n",
       "    </tr>\n",
       "    <tr>\n",
       "      <th>2</th>\n",
       "      <td>0.23</td>\n",
       "      <td>2</td>\n",
       "      <td>4</td>\n",
       "      <td>56.9</td>\n",
       "      <td>65.0</td>\n",
       "      <td>4.05</td>\n",
       "      <td>4.07</td>\n",
       "      <td>2.31</td>\n",
       "      <td>327</td>\n",
       "    </tr>\n",
       "    <tr>\n",
       "      <th>3</th>\n",
       "      <td>0.29</td>\n",
       "      <td>4</td>\n",
       "      <td>5</td>\n",
       "      <td>62.4</td>\n",
       "      <td>58.0</td>\n",
       "      <td>4.20</td>\n",
       "      <td>4.23</td>\n",
       "      <td>2.63</td>\n",
       "      <td>334</td>\n",
       "    </tr>\n",
       "    <tr>\n",
       "      <th>4</th>\n",
       "      <td>0.31</td>\n",
       "      <td>2</td>\n",
       "      <td>1</td>\n",
       "      <td>63.3</td>\n",
       "      <td>58.0</td>\n",
       "      <td>4.34</td>\n",
       "      <td>4.35</td>\n",
       "      <td>2.75</td>\n",
       "      <td>335</td>\n",
       "    </tr>\n",
       "    <tr>\n",
       "      <th>...</th>\n",
       "      <td>...</td>\n",
       "      <td>...</td>\n",
       "      <td>...</td>\n",
       "      <td>...</td>\n",
       "      <td>...</td>\n",
       "      <td>...</td>\n",
       "      <td>...</td>\n",
       "      <td>...</td>\n",
       "      <td>...</td>\n",
       "    </tr>\n",
       "    <tr>\n",
       "      <th>53935</th>\n",
       "      <td>0.72</td>\n",
       "      <td>0</td>\n",
       "      <td>0</td>\n",
       "      <td>60.8</td>\n",
       "      <td>57.0</td>\n",
       "      <td>5.75</td>\n",
       "      <td>5.76</td>\n",
       "      <td>3.50</td>\n",
       "      <td>2757</td>\n",
       "    </tr>\n",
       "    <tr>\n",
       "      <th>53936</th>\n",
       "      <td>0.72</td>\n",
       "      <td>2</td>\n",
       "      <td>0</td>\n",
       "      <td>63.1</td>\n",
       "      <td>55.0</td>\n",
       "      <td>5.69</td>\n",
       "      <td>5.75</td>\n",
       "      <td>3.61</td>\n",
       "      <td>2757</td>\n",
       "    </tr>\n",
       "    <tr>\n",
       "      <th>53937</th>\n",
       "      <td>0.70</td>\n",
       "      <td>3</td>\n",
       "      <td>0</td>\n",
       "      <td>62.8</td>\n",
       "      <td>60.0</td>\n",
       "      <td>5.66</td>\n",
       "      <td>5.68</td>\n",
       "      <td>3.56</td>\n",
       "      <td>2757</td>\n",
       "    </tr>\n",
       "    <tr>\n",
       "      <th>53938</th>\n",
       "      <td>0.86</td>\n",
       "      <td>4</td>\n",
       "      <td>1</td>\n",
       "      <td>61.0</td>\n",
       "      <td>58.0</td>\n",
       "      <td>6.15</td>\n",
       "      <td>6.12</td>\n",
       "      <td>3.74</td>\n",
       "      <td>2757</td>\n",
       "    </tr>\n",
       "    <tr>\n",
       "      <th>53939</th>\n",
       "      <td>0.75</td>\n",
       "      <td>0</td>\n",
       "      <td>1</td>\n",
       "      <td>62.2</td>\n",
       "      <td>55.0</td>\n",
       "      <td>5.83</td>\n",
       "      <td>5.87</td>\n",
       "      <td>3.64</td>\n",
       "      <td>2757</td>\n",
       "    </tr>\n",
       "  </tbody>\n",
       "</table>\n",
       "<p>53914 rows × 9 columns</p>\n",
       "</div>"
      ],
      "text/plain": [
       "       carat  cut  clarity  depth_per  table  length  width  depth  price\n",
       "0       0.23    0        1       61.5   55.0    3.95   3.98   2.43    326\n",
       "1       0.21    4        0       59.8   61.0    3.89   3.84   2.31    326\n",
       "2       0.23    2        4       56.9   65.0    4.05   4.07   2.31    327\n",
       "3       0.29    4        5       62.4   58.0    4.20   4.23   2.63    334\n",
       "4       0.31    2        1       63.3   58.0    4.34   4.35   2.75    335\n",
       "...      ...  ...      ...        ...    ...     ...    ...    ...    ...\n",
       "53935   0.72    0        0       60.8   57.0    5.75   5.76   3.50   2757\n",
       "53936   0.72    2        0       63.1   55.0    5.69   5.75   3.61   2757\n",
       "53937   0.70    3        0       62.8   60.0    5.66   5.68   3.56   2757\n",
       "53938   0.86    4        1       61.0   58.0    6.15   6.12   3.74   2757\n",
       "53939   0.75    0        1       62.2   55.0    5.83   5.87   3.64   2757\n",
       "\n",
       "[53914 rows x 9 columns]"
      ]
     },
     "execution_count": 12,
     "metadata": {},
     "output_type": "execute_result"
    }
   ],
   "source": [
    "df = df[(df[\"length\"]<30)]\n",
    "df = df[(df[\"width\"]<30)]\n",
    "df = df[(df[\"depth\"]<30)&(df[\"depth\"]>2)]\n",
    "df"
   ]
  },
  {
   "cell_type": "markdown",
   "id": "f2d9b9a4",
   "metadata": {},
   "source": [
    "### => 상관관계가 높은 변수들 안에서 정확도를 향상 시키기 위해 이상치 제거"
   ]
  },
  {
   "cell_type": "markdown",
   "id": "2bbfb767",
   "metadata": {},
   "source": [
    "### 앞서 전처리한 데이터들로 Linear Regression "
   ]
  },
  {
   "cell_type": "code",
   "execution_count": 13,
   "id": "47bf3f0c",
   "metadata": {},
   "outputs": [],
   "source": [
    "from sklearn.model_selection import train_test_split\n",
    "from sklearn import preprocessing\n",
    "\n",
    "X= df.drop([\"price\"],axis =1)\n",
    "y= df[\"price\"]\n",
    "X_train, X_test, y_train, y_test = train_test_split(X, y,test_size=0.25, random_state=7)"
   ]
  },
  {
   "cell_type": "code",
   "execution_count": 14,
   "id": "97262217",
   "metadata": {},
   "outputs": [
    {
     "data": {
      "text/html": [
       "<style>#sk-container-id-1 {color: black;background-color: white;}#sk-container-id-1 pre{padding: 0;}#sk-container-id-1 div.sk-toggleable {background-color: white;}#sk-container-id-1 label.sk-toggleable__label {cursor: pointer;display: block;width: 100%;margin-bottom: 0;padding: 0.3em;box-sizing: border-box;text-align: center;}#sk-container-id-1 label.sk-toggleable__label-arrow:before {content: \"▸\";float: left;margin-right: 0.25em;color: #696969;}#sk-container-id-1 label.sk-toggleable__label-arrow:hover:before {color: black;}#sk-container-id-1 div.sk-estimator:hover label.sk-toggleable__label-arrow:before {color: black;}#sk-container-id-1 div.sk-toggleable__content {max-height: 0;max-width: 0;overflow: hidden;text-align: left;background-color: #f0f8ff;}#sk-container-id-1 div.sk-toggleable__content pre {margin: 0.2em;color: black;border-radius: 0.25em;background-color: #f0f8ff;}#sk-container-id-1 input.sk-toggleable__control:checked~div.sk-toggleable__content {max-height: 200px;max-width: 100%;overflow: auto;}#sk-container-id-1 input.sk-toggleable__control:checked~label.sk-toggleable__label-arrow:before {content: \"▾\";}#sk-container-id-1 div.sk-estimator input.sk-toggleable__control:checked~label.sk-toggleable__label {background-color: #d4ebff;}#sk-container-id-1 div.sk-label input.sk-toggleable__control:checked~label.sk-toggleable__label {background-color: #d4ebff;}#sk-container-id-1 input.sk-hidden--visually {border: 0;clip: rect(1px 1px 1px 1px);clip: rect(1px, 1px, 1px, 1px);height: 1px;margin: -1px;overflow: hidden;padding: 0;position: absolute;width: 1px;}#sk-container-id-1 div.sk-estimator {font-family: monospace;background-color: #f0f8ff;border: 1px dotted black;border-radius: 0.25em;box-sizing: border-box;margin-bottom: 0.5em;}#sk-container-id-1 div.sk-estimator:hover {background-color: #d4ebff;}#sk-container-id-1 div.sk-parallel-item::after {content: \"\";width: 100%;border-bottom: 1px solid gray;flex-grow: 1;}#sk-container-id-1 div.sk-label:hover label.sk-toggleable__label {background-color: #d4ebff;}#sk-container-id-1 div.sk-serial::before {content: \"\";position: absolute;border-left: 1px solid gray;box-sizing: border-box;top: 0;bottom: 0;left: 50%;z-index: 0;}#sk-container-id-1 div.sk-serial {display: flex;flex-direction: column;align-items: center;background-color: white;padding-right: 0.2em;padding-left: 0.2em;position: relative;}#sk-container-id-1 div.sk-item {position: relative;z-index: 1;}#sk-container-id-1 div.sk-parallel {display: flex;align-items: stretch;justify-content: center;background-color: white;position: relative;}#sk-container-id-1 div.sk-item::before, #sk-container-id-1 div.sk-parallel-item::before {content: \"\";position: absolute;border-left: 1px solid gray;box-sizing: border-box;top: 0;bottom: 0;left: 50%;z-index: -1;}#sk-container-id-1 div.sk-parallel-item {display: flex;flex-direction: column;z-index: 1;position: relative;background-color: white;}#sk-container-id-1 div.sk-parallel-item:first-child::after {align-self: flex-end;width: 50%;}#sk-container-id-1 div.sk-parallel-item:last-child::after {align-self: flex-start;width: 50%;}#sk-container-id-1 div.sk-parallel-item:only-child::after {width: 0;}#sk-container-id-1 div.sk-dashed-wrapped {border: 1px dashed gray;margin: 0 0.4em 0.5em 0.4em;box-sizing: border-box;padding-bottom: 0.4em;background-color: white;}#sk-container-id-1 div.sk-label label {font-family: monospace;font-weight: bold;display: inline-block;line-height: 1.2em;}#sk-container-id-1 div.sk-label-container {text-align: center;}#sk-container-id-1 div.sk-container {/* jupyter's `normalize.less` sets `[hidden] { display: none; }` but bootstrap.min.css set `[hidden] { display: none !important; }` so we also need the `!important` here to be able to override the default hidden behavior on the sphinx rendered scikit-learn.org. See: https://github.com/scikit-learn/scikit-learn/issues/21755 */display: inline-block !important;position: relative;}#sk-container-id-1 div.sk-text-repr-fallback {display: none;}</style><div id=\"sk-container-id-1\" class=\"sk-top-container\"><div class=\"sk-text-repr-fallback\"><pre>LinearRegression()</pre><b>In a Jupyter environment, please rerun this cell to show the HTML representation or trust the notebook. <br />On GitHub, the HTML representation is unable to render, please try loading this page with nbviewer.org.</b></div><div class=\"sk-container\" hidden><div class=\"sk-item\"><div class=\"sk-estimator sk-toggleable\"><input class=\"sk-toggleable__control sk-hidden--visually\" id=\"sk-estimator-id-1\" type=\"checkbox\" checked><label for=\"sk-estimator-id-1\" class=\"sk-toggleable__label sk-toggleable__label-arrow\">LinearRegression</label><div class=\"sk-toggleable__content\"><pre>LinearRegression()</pre></div></div></div></div></div>"
      ],
      "text/plain": [
       "LinearRegression()"
      ]
     },
     "execution_count": 14,
     "metadata": {},
     "output_type": "execute_result"
    }
   ],
   "source": [
    "from sklearn.linear_model import LinearRegression\n",
    "\n",
    "model = LinearRegression()\n",
    "model.fit(X_train, y_train)"
   ]
  },
  {
   "cell_type": "code",
   "execution_count": 15,
   "id": "2c645f92",
   "metadata": {},
   "outputs": [
    {
     "data": {
      "text/plain": [
       "array([ 1.05469721e+04,  4.48021355e+00,  2.19623240e+02,  1.33643603e+02,\n",
       "       -7.31260583e+01, -1.75268074e+03,  3.77060668e+03, -4.94193046e+03])"
      ]
     },
     "execution_count": 15,
     "metadata": {},
     "output_type": "execute_result"
    }
   ],
   "source": [
    "model.coef_"
   ]
  },
  {
   "cell_type": "code",
   "execution_count": 16,
   "id": "f037a9f2",
   "metadata": {},
   "outputs": [],
   "source": [
    "from sklearn.metrics import r2_score\n",
    "from sklearn.metrics import mean_squared_error\n",
    "\n",
    "y_train_pred = model.predict(X_train)\n",
    "y_test_pred = model.predict(X_test)"
   ]
  },
  {
   "cell_type": "code",
   "execution_count": 17,
   "id": "0478ef9e",
   "metadata": {
    "scrolled": true
   },
   "outputs": [
    {
     "data": {
      "text/plain": [
       "(1967388.0774850924, 1863887.21783414)"
      ]
     },
     "execution_count": 17,
     "metadata": {},
     "output_type": "execute_result"
    }
   ],
   "source": [
    "mean_squared_error(y_train_pred , y_train) , mean_squared_error(y_test_pred , y_test)"
   ]
  },
  {
   "cell_type": "code",
   "execution_count": 18,
   "id": "ab24b3df",
   "metadata": {},
   "outputs": [
    {
     "name": "stdout",
     "output_type": "stream",
     "text": [
      "train R^2:  0.8584793102101964 , test R^2:  0.8669572386305836\n"
     ]
    }
   ],
   "source": [
    "print('train R^2: ',r2_score(y_train_pred , y_train) , ', test R^2: ',r2_score(y_test_pred , y_test))"
   ]
  },
  {
   "cell_type": "markdown",
   "id": "251e3839",
   "metadata": {},
   "source": [
    "## #2. adjust-r2 값을 사용해서 성능향상"
   ]
  },
  {
   "cell_type": "code",
   "execution_count": 19,
   "id": "39aacf7f",
   "metadata": {},
   "outputs": [
    {
     "name": "stdout",
     "output_type": "stream",
     "text": [
      "Train Adjusted R^2: 0.875999886001845\n",
      "Test Adjusted R^2: 0.8833021267066326\n"
     ]
    }
   ],
   "source": [
    "print(\"Train Adjusted R^2:\",1 - (1-r2_score(y_train, y_train_pred))*(len(y_train)-1)/(len(y_train)-X_train.shape[1]-1))\n",
    "print(\"Test Adjusted R^2:\",1 - (1-r2_score(y_test, y_test_pred))*(len(y_test)-1)/(len(y_test)-X_test.shape[1]-1))"
   ]
  },
  {
   "cell_type": "markdown",
   "id": "74b8376f",
   "metadata": {},
   "source": [
    "## #3. Polynomial Regression"
   ]
  },
  {
   "cell_type": "code",
   "execution_count": 20,
   "id": "0b659ae1",
   "metadata": {},
   "outputs": [
    {
     "name": "stdout",
     "output_type": "stream",
     "text": [
      "Train MSE: 1517138.5991861238\n",
      "Test MSE: 1519804.0474851388\n",
      "Train R^2 Score: 0.9043970327049468\n",
      "Test R^2 Score: 0.9049016346401993\n"
     ]
    }
   ],
   "source": [
    "from sklearn.preprocessing import PolynomialFeatures\n",
    "\n",
    "# 다항 특성 생성\n",
    "poly = PolynomialFeatures(degree=2)  # 2차 다항식 사용 (필요에 따라 차수 조정 가능)\n",
    "X_poly = poly.fit_transform(X)\n",
    "\n",
    "X_train_poly, X_test_poly, y_train, y_test = train_test_split(X_poly, y,test_size=0.25, random_state=7)\n",
    "\n",
    "# 다항 회귀 모델 정의 및 학습\n",
    "model = LinearRegression()\n",
    "model.fit(X_train_poly, y_train)\n",
    "\n",
    "# 학습 데이터에 대한 예측\n",
    "y_train_pred = model.predict(X_train_poly)\n",
    "\n",
    "# 테스트 데이터에 대한 예측\n",
    "y_test_pred = model.predict(X_test_poly)\n",
    "\n",
    "# 성능 평가 (MSE 및 R2 스코어)\n",
    "train_mse = mean_squared_error(y_train, y_train_pred)\n",
    "test_mse = mean_squared_error(y_test, y_test_pred)\n",
    "\n",
    "train_r2 = r2_score(y_train, y_train_pred)\n",
    "test_r2 = r2_score(y_test, y_test_pred)\n",
    "\n",
    "print(\"Train MSE:\", train_mse)\n",
    "print(\"Test MSE:\", test_mse)\n",
    "print(\"Train R^2 Score:\", train_r2)\n",
    "print(\"Test R^2 Score:\", test_r2)"
   ]
  },
  {
   "cell_type": "markdown",
   "id": "b91e97f6",
   "metadata": {},
   "source": [
    "## #4. Lasso Regression 을 사용하여 변수 선택"
   ]
  },
  {
   "cell_type": "code",
   "execution_count": 21,
   "id": "efad20cb",
   "metadata": {},
   "outputs": [
    {
     "name": "stdout",
     "output_type": "stream",
     "text": [
      "Ridge :  [ 1.05112563e+04  4.38950954e+00  2.19769412e+02  1.19222369e+02\n",
      " -7.32033144e+01 -1.77094454e+03  3.64857849e+03 -4.69092218e+03]\n"
     ]
    }
   ],
   "source": [
    "#Ridge Regression\n",
    "from sklearn.linear_model import Ridge\n",
    "ridge = Ridge(alpha=1.0)\n",
    "ridge.fit(X_train, y_train)\n",
    "y_train_pred = ridge.predict(X_train)\n",
    "y_test_pred = ridge.predict(X_test)\n",
    "print(\"Ridge : \" ,ridge.coef_)"
   ]
  },
  {
   "cell_type": "code",
   "execution_count": 22,
   "id": "78026b96",
   "metadata": {},
   "outputs": [
    {
     "name": "stdout",
     "output_type": "stream",
     "text": [
      "Lasso :  [ 1.03465304e+04  4.31445942e-01  2.20940041e+02  1.31446894e+01\n",
      " -7.51001203e+01 -1.27477026e+03  2.12677092e+03 -2.92588278e+03]\n"
     ]
    },
    {
     "name": "stderr",
     "output_type": "stream",
     "text": [
      "C:\\Users\\JooYeSeo\\anaconda3\\lib\\site-packages\\sklearn\\linear_model\\_coordinate_descent.py:631: ConvergenceWarning: Objective did not converge. You might want to increase the number of iterations, check the scale of the features or consider increasing regularisation. Duality gap: 5.654e+09, tolerance: 6.417e+07\n",
      "  model = cd_fast.enet_coordinate_descent(\n"
     ]
    }
   ],
   "source": [
    "#Lasso Regression\n",
    "from sklearn.linear_model import Lasso\n",
    "lasso = Lasso(alpha=1.0)\n",
    "lasso.fit(X_train, y_train)\n",
    "y_train_pred = lasso.predict(X_train)\n",
    "y_test_pred = lasso.predict(X_test)\n",
    "print(\"Lasso : \",lasso.coef_)"
   ]
  },
  {
   "cell_type": "markdown",
   "id": "323124bf",
   "metadata": {},
   "source": [
    "**table, length, depth 변수의 계수가 0 에 가까워졌으므로, 위 3개의 변수들을 삭제 후 다시 Linear Regression**"
   ]
  },
  {
   "cell_type": "code",
   "execution_count": 23,
   "id": "8676a61d",
   "metadata": {},
   "outputs": [
    {
     "name": "stdout",
     "output_type": "stream",
     "text": [
      "lasso_train_MSE :  9.874204858256709e-25 lasso_test_MSE :  9.461258930067185e-25\n",
      "lasso_train_r2 :  1.0 lasso_test_r2 :  1.0\n"
     ]
    }
   ],
   "source": [
    "lasso_X = df.drop([\"table\",\"length\", \"depth\"],axis =1)\n",
    "lasso_y= df[\"price\"]\n",
    "    \n",
    "lasso_X_train, lasso_X_test, lasso_y_train, lasso_y_test = train_test_split(lasso_X, lasso_y,test_size=0.25, random_state=7)\n",
    "lasso_model = LinearRegression()\n",
    "lasso_model.fit(lasso_X_train, lasso_y_train)\n",
    "\n",
    "\n",
    "lasso_y_train_pred = lasso_model.predict(lasso_X_train)\n",
    "lasso_y_test_pred = lasso_model.predict(lasso_X_test)\n",
    "    \n",
    "print('lasso_train_MSE : ',mean_squared_error(lasso_y_train_pred , lasso_y_train) ,f'lasso_test_MSE : ', mean_squared_error(lasso_y_test_pred , lasso_y_test))\n",
    "print(f'lasso_train_r2 : ',r2_score(lasso_y_train_pred , lasso_y_train) , f'lasso_test_r2 : ',r2_score(lasso_y_test_pred , lasso_y_test))"
   ]
  },
  {
   "cell_type": "markdown",
   "id": "4a60216d",
   "metadata": {},
   "source": [
    "## #5. 다중공선성 유발하는 변수들 제거"
   ]
  },
  {
   "cell_type": "markdown",
   "id": "7454d058",
   "metadata": {},
   "source": [
    "**다중공선성 : 독립 변수들 간에 높은 상관 관계가 있을 때 발생하는 문제**"
   ]
  },
  {
   "cell_type": "code",
   "execution_count": 24,
   "id": "b0dcc6e9",
   "metadata": {},
   "outputs": [
    {
     "data": {
      "text/plain": [
       "<AxesSubplot:>"
      ]
     },
     "execution_count": 24,
     "metadata": {},
     "output_type": "execute_result"
    },
    {
     "data": {
      "image/png": "[encoded data removed]",
      "text/plain": [
       "<Figure size 864x864 with 2 Axes>"
      ]
     },
     "metadata": {
      "needs_background": "light"
     },
     "output_type": "display_data"
    }
   ],
   "source": [
    "# 변수들간의 상관관계 히트맵으로 시각화\n",
    "cmap = 'coolwarm' \n",
    "corrmat= df.corr()\n",
    "f, ax = plt.subplots(figsize=(12,12))\n",
    "sns.heatmap(corrmat,cmap=cmap,annot=True)"
   ]
  },
  {
   "cell_type": "markdown",
   "id": "ccaa5eaf",
   "metadata": {},
   "source": [
    "**히트맵 확인 결과 carat과 length, width, depth 간의 상관관계가 매우 높음   \n",
    "=>이 변수들을 제거**"
   ]
  },
  {
   "cell_type": "code",
   "execution_count": 25,
   "id": "da19ea7d",
   "metadata": {},
   "outputs": [
    {
     "name": "stdout",
     "output_type": "stream",
     "text": [
      "corr_train_MSE :  3.351821048853498e-24 corr_test_MSE :  3.2151255509012458e-24\n",
      "corr_train_r2 :  1.0 corr_test_r2 :  1.0\n"
     ]
    }
   ],
   "source": [
    "corr_X = df.drop([\"length\", \"depth\", \"width\"],axis =1)\n",
    "corr_y= df[\"price\"]\n",
    "    \n",
    "corr_X_train, corr_X_test, corr_y_train, corr_y_test = train_test_split(corr_X, corr_y,test_size=0.25, random_state=7)\n",
    "corr_model = LinearRegression()\n",
    "corr_model.fit(corr_X_train, corr_y_train)\n",
    "\n",
    "\n",
    "corr_y_train_pred = corr_model.predict(corr_X_train)\n",
    "corr_y_test_pred = corr_model.predict(corr_X_test)\n",
    "    \n",
    "print('corr_train_MSE : ',mean_squared_error(corr_y_train_pred , corr_y_train) ,f'corr_test_MSE : ', mean_squared_error(corr_y_test_pred , corr_y_test))\n",
    "print(f'corr_train_r2 : ',r2_score(corr_y_train_pred , corr_y_train) , f'corr_test_r2 : ',r2_score(corr_y_test_pred , corr_y_test))"
   ]
  }
 ],
 "metadata": {
  "kernelspec": {
   "display_name": "Python 3 (ipykernel)",
   "language": "python",
   "name": "python3"
  },
  "language_info": {
   "codemirror_mode": {
    "name": "ipython",
    "version": 3
   },
   "file_extension": ".py",
   "mimetype": "text/x-python",
   "name": "python",
   "nbconvert_exporter": "python",
   "pygments_lexer": "ipython3",
   "version": "3.7.11"
  },
  "toc": {
   "base_numbering": 1,
   "nav_menu": {},
   "number_sections": true,
   "sideBar": true,
   "skip_h1_title": false,
   "title_cell": "Table of Contents",
   "title_sidebar": "Contents",
   "toc_cell": false,
   "toc_position": {},
   "toc_section_display": true,
   "toc_window_display": false
  }
 },
 "nbformat": 4,
 "nbformat_minor": 5
}
